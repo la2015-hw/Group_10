{
  "nbformat": 4,
  "nbformat_minor": 0,
  "metadata": {
    "colab": {
      "provenance": [],
      "include_colab_link": true
    },
    "kernelspec": {
      "name": "python3",
      "display_name": "Python 3"
    },
    "language_info": {
      "name": "python"
    }
  },
  "cells": [
    {
      "cell_type": "markdown",
      "metadata": {
        "id": "view-in-github",
        "colab_type": "text"
      },
      "source": [
        "<a href=\"https://colab.research.google.com/github/la2015-hw/Group_10/blob/main/NaiveBayes.ipynb\" target=\"_parent\"><img src=\"https://colab.research.google.com/assets/colab-badge.svg\" alt=\"Open In Colab\"/></a>"
      ]
    },
    {
      "cell_type": "code",
      "execution_count": 1,
      "metadata": {
        "id": "0oloYyVH5nJB",
        "colab": {
          "base_uri": "https://localhost:8080/",
          "height": 90
        },
        "outputId": "abeb5f06-d910-477b-b3a8-e215a29f17d8"
      },
      "outputs": [
        {
          "output_type": "display_data",
          "data": {
            "text/plain": [
              "<IPython.core.display.HTML object>"
            ],
            "text/html": [
              "\n",
              "     <input type=\"file\" id=\"files-7a94ced9-40d0-4bd5-a30b-75f87498b801\" name=\"files[]\" multiple disabled\n",
              "        style=\"border:none\" />\n",
              "     <output id=\"result-7a94ced9-40d0-4bd5-a30b-75f87498b801\">\n",
              "      Upload widget is only available when the cell has been executed in the\n",
              "      current browser session. Please rerun this cell to enable.\n",
              "      </output>\n",
              "      <script>// Copyright 2017 Google LLC\n",
              "//\n",
              "// Licensed under the Apache License, Version 2.0 (the \"License\");\n",
              "// you may not use this file except in compliance with the License.\n",
              "// You may obtain a copy of the License at\n",
              "//\n",
              "//      http://www.apache.org/licenses/LICENSE-2.0\n",
              "//\n",
              "// Unless required by applicable law or agreed to in writing, software\n",
              "// distributed under the License is distributed on an \"AS IS\" BASIS,\n",
              "// WITHOUT WARRANTIES OR CONDITIONS OF ANY KIND, either express or implied.\n",
              "// See the License for the specific language governing permissions and\n",
              "// limitations under the License.\n",
              "\n",
              "/**\n",
              " * @fileoverview Helpers for google.colab Python module.\n",
              " */\n",
              "(function(scope) {\n",
              "function span(text, styleAttributes = {}) {\n",
              "  const element = document.createElement('span');\n",
              "  element.textContent = text;\n",
              "  for (const key of Object.keys(styleAttributes)) {\n",
              "    element.style[key] = styleAttributes[key];\n",
              "  }\n",
              "  return element;\n",
              "}\n",
              "\n",
              "// Max number of bytes which will be uploaded at a time.\n",
              "const MAX_PAYLOAD_SIZE = 100 * 1024;\n",
              "\n",
              "function _uploadFiles(inputId, outputId) {\n",
              "  const steps = uploadFilesStep(inputId, outputId);\n",
              "  const outputElement = document.getElementById(outputId);\n",
              "  // Cache steps on the outputElement to make it available for the next call\n",
              "  // to uploadFilesContinue from Python.\n",
              "  outputElement.steps = steps;\n",
              "\n",
              "  return _uploadFilesContinue(outputId);\n",
              "}\n",
              "\n",
              "// This is roughly an async generator (not supported in the browser yet),\n",
              "// where there are multiple asynchronous steps and the Python side is going\n",
              "// to poll for completion of each step.\n",
              "// This uses a Promise to block the python side on completion of each step,\n",
              "// then passes the result of the previous step as the input to the next step.\n",
              "function _uploadFilesContinue(outputId) {\n",
              "  const outputElement = document.getElementById(outputId);\n",
              "  const steps = outputElement.steps;\n",
              "\n",
              "  const next = steps.next(outputElement.lastPromiseValue);\n",
              "  return Promise.resolve(next.value.promise).then((value) => {\n",
              "    // Cache the last promise value to make it available to the next\n",
              "    // step of the generator.\n",
              "    outputElement.lastPromiseValue = value;\n",
              "    return next.value.response;\n",
              "  });\n",
              "}\n",
              "\n",
              "/**\n",
              " * Generator function which is called between each async step of the upload\n",
              " * process.\n",
              " * @param {string} inputId Element ID of the input file picker element.\n",
              " * @param {string} outputId Element ID of the output display.\n",
              " * @return {!Iterable<!Object>} Iterable of next steps.\n",
              " */\n",
              "function* uploadFilesStep(inputId, outputId) {\n",
              "  const inputElement = document.getElementById(inputId);\n",
              "  inputElement.disabled = false;\n",
              "\n",
              "  const outputElement = document.getElementById(outputId);\n",
              "  outputElement.innerHTML = '';\n",
              "\n",
              "  const pickedPromise = new Promise((resolve) => {\n",
              "    inputElement.addEventListener('change', (e) => {\n",
              "      resolve(e.target.files);\n",
              "    });\n",
              "  });\n",
              "\n",
              "  const cancel = document.createElement('button');\n",
              "  inputElement.parentElement.appendChild(cancel);\n",
              "  cancel.textContent = 'Cancel upload';\n",
              "  const cancelPromise = new Promise((resolve) => {\n",
              "    cancel.onclick = () => {\n",
              "      resolve(null);\n",
              "    };\n",
              "  });\n",
              "\n",
              "  // Wait for the user to pick the files.\n",
              "  const files = yield {\n",
              "    promise: Promise.race([pickedPromise, cancelPromise]),\n",
              "    response: {\n",
              "      action: 'starting',\n",
              "    }\n",
              "  };\n",
              "\n",
              "  cancel.remove();\n",
              "\n",
              "  // Disable the input element since further picks are not allowed.\n",
              "  inputElement.disabled = true;\n",
              "\n",
              "  if (!files) {\n",
              "    return {\n",
              "      response: {\n",
              "        action: 'complete',\n",
              "      }\n",
              "    };\n",
              "  }\n",
              "\n",
              "  for (const file of files) {\n",
              "    const li = document.createElement('li');\n",
              "    li.append(span(file.name, {fontWeight: 'bold'}));\n",
              "    li.append(span(\n",
              "        `(${file.type || 'n/a'}) - ${file.size} bytes, ` +\n",
              "        `last modified: ${\n",
              "            file.lastModifiedDate ? file.lastModifiedDate.toLocaleDateString() :\n",
              "                                    'n/a'} - `));\n",
              "    const percent = span('0% done');\n",
              "    li.appendChild(percent);\n",
              "\n",
              "    outputElement.appendChild(li);\n",
              "\n",
              "    const fileDataPromise = new Promise((resolve) => {\n",
              "      const reader = new FileReader();\n",
              "      reader.onload = (e) => {\n",
              "        resolve(e.target.result);\n",
              "      };\n",
              "      reader.readAsArrayBuffer(file);\n",
              "    });\n",
              "    // Wait for the data to be ready.\n",
              "    let fileData = yield {\n",
              "      promise: fileDataPromise,\n",
              "      response: {\n",
              "        action: 'continue',\n",
              "      }\n",
              "    };\n",
              "\n",
              "    // Use a chunked sending to avoid message size limits. See b/62115660.\n",
              "    let position = 0;\n",
              "    do {\n",
              "      const length = Math.min(fileData.byteLength - position, MAX_PAYLOAD_SIZE);\n",
              "      const chunk = new Uint8Array(fileData, position, length);\n",
              "      position += length;\n",
              "\n",
              "      const base64 = btoa(String.fromCharCode.apply(null, chunk));\n",
              "      yield {\n",
              "        response: {\n",
              "          action: 'append',\n",
              "          file: file.name,\n",
              "          data: base64,\n",
              "        },\n",
              "      };\n",
              "\n",
              "      let percentDone = fileData.byteLength === 0 ?\n",
              "          100 :\n",
              "          Math.round((position / fileData.byteLength) * 100);\n",
              "      percent.textContent = `${percentDone}% done`;\n",
              "\n",
              "    } while (position < fileData.byteLength);\n",
              "  }\n",
              "\n",
              "  // All done.\n",
              "  yield {\n",
              "    response: {\n",
              "      action: 'complete',\n",
              "    }\n",
              "  };\n",
              "}\n",
              "\n",
              "scope.google = scope.google || {};\n",
              "scope.google.colab = scope.google.colab || {};\n",
              "scope.google.colab._files = {\n",
              "  _uploadFiles,\n",
              "  _uploadFilesContinue,\n",
              "};\n",
              "})(self);\n",
              "</script> "
            ]
          },
          "metadata": {}
        },
        {
          "output_type": "stream",
          "name": "stdout",
          "text": [
            "Saving kaggle.json to kaggle.json\n"
          ]
        },
        {
          "output_type": "execute_result",
          "data": {
            "text/plain": [
              "{'kaggle.json': b'{\"username\":\"vaishnavichintha\",\"key\":\"7f7453401b6964fd1e8a85d1dc7c0977\"}'}"
            ]
          },
          "metadata": {},
          "execution_count": 1
        }
      ],
      "source": [
        "from google.colab import files\n",
        "files.upload()"
      ]
    },
    {
      "cell_type": "code",
      "source": [
        "!mkdir -p ~/.kaggle\n",
        "!cp kaggle.json ~/.kaggle/\n",
        "!chmod 600 ~/.kaggle/kaggle.json"
      ],
      "metadata": {
        "id": "7r4Fojr09xS-"
      },
      "execution_count": 3,
      "outputs": []
    },
    {
      "cell_type": "code",
      "source": [
        "!kaggle datasets list"
      ],
      "metadata": {
        "collapsed": true,
        "colab": {
          "base_uri": "https://localhost:8080/"
        },
        "id": "tbnLU_9U90UQ",
        "outputId": "998092c2-2601-465f-ca3b-c3f8a61de6db"
      },
      "execution_count": 4,
      "outputs": [
        {
          "output_type": "stream",
          "name": "stdout",
          "text": [
            "ref                                                            title                                                     size  lastUpdated                 downloadCount  voteCount  usabilityRating  \n",
            "-------------------------------------------------------------  --------------------------------------------------  ----------  --------------------------  -------------  ---------  ---------------  \n",
            "ahmeduzaki/global-earthquake-tsunami-risk-assessment-dataset   Global Earthquake-Tsunami Risk Assessment Dataset        16151  2025-10-01 16:35:53.273000          13786        468  1.0              \n",
            "jockeroika/life-style-data                                     Life Style Data                                        3995645  2025-10-14 13:50:45.303000          16137        334  0.8235294        \n",
            "jaderz/hospital-beds-management                                Hospital Beds Management                                 47583  2025-10-03 09:21:58.590000          11225        291  1.0              \n",
            "alamshihab075/mental-health-dataset                            Mental Health Dataset                                  1109509  2025-10-23 11:29:29.797000            911         27  1.0              \n",
            "ahmadrazakashif/bmw-worldwide-sales-records-20102024           BMW Worldwide Sales Records (2010–2024)                 853348  2025-09-20 14:39:45.280000          15609        315  1.0              \n",
            "grandmaster07/student-exam-score-dataset-analysis              Student exam score dataset analysis                       2430  2025-09-26 07:44:12.677000           8300        184  1.0              \n",
            "mohankrishnathalla/mobile-reviews-sentiment-and-specification  Global Mobile Reviews Dataset (2025 Edition)           2211906  2025-10-22 16:01:13.550000           1138         27  1.0              \n",
            "rajatkhairnar/monthly-spending-for-eda                         Monthly Spending Dataset — (Jan 2020 → Sep 2025) ₹       16012  2025-10-20 13:46:04.647000            822         24  1.0              \n",
            "ahmadrazakashif/netflix-streaming-data                         Netflix_Streaming_Data                                 1400865  2025-10-09 17:53:56.590000           1115         24  1.0              \n",
            "asadullahcreative/global-gdp-explorer-2024-world-bank-un-data  💰 Global GDP Dataset (Latest)                             6672  2025-10-17 17:58:50.040000            710         24  1.0              \n",
            "prince7489/mental-health-and-social-media-balance-dataset      Mental Health & Social Media Balance Dataset              5941  2025-10-15 15:56:35.387000           2181         57  0.9411765        \n",
            "tan5577/nutritonal-fast-food-dataset                           Fast_Food_Dataset                                        41257  2025-10-05 08:46:33.960000            844         22  1.0              \n",
            "tan5577/heart-failure-dataset                                  Heart_Failure_Dataset                                     8762  2025-10-19 16:54:19.303000            991         29  1.0              \n",
            "ayeshaimran123/bmw-car-data-analysis                           BMW Car Data Analysis                                   112601  2025-10-17 05:34:49.407000           1069         32  1.0              \n",
            "mohankrishnathalla/medical-insurance-cost-prediction           Medical Insurance Cost Prediction                      5897923  2025-10-10 15:35:01.663000           2748         65  1.0              \n",
            "ahmadrazakashif/shopping-behavior-dataset                      Shopping_Behavior_Dataset                                72157  2025-10-08 16:19:06.293000           2348         36  1.0              \n",
            "anassarfraz13/student-success-factors-and-insights             Student Success: Factors & Insights                      96178  2025-09-24 07:58:55.117000           5861        100  1.0              \n",
            "asadullahcreative/world-population-by-country-2025             🌍 World Population by Country 2025 (Latest)               9275  2025-10-15 21:38:51.047000           1630         38  1.0              \n",
            "ayeshaimran123/data-science-student-marks                      Data Science Student Marks                                5199  2025-10-09 08:22:41.593000           1170         44  1.0              \n",
            "sidraaazam/analyzing-student-stress-factors                    Analyzing Student Stress Factors                           864  2025-10-19 07:17:45.940000            846         27  1.0              \n"
          ]
        }
      ]
    },
    {
      "cell_type": "code",
      "source": [
        "!kaggle datasets download -d vaishnavichintha/sdss-tabular-dataset"
      ],
      "metadata": {
        "colab": {
          "base_uri": "https://localhost:8080/"
        },
        "id": "X2B8I10w96jx",
        "outputId": "a2300251-9e02-4a91-8024-9e03d2cb4736"
      },
      "execution_count": 5,
      "outputs": [
        {
          "output_type": "stream",
          "name": "stdout",
          "text": [
            "Dataset URL: https://www.kaggle.com/datasets/vaishnavichintha/sdss-tabular-dataset\n",
            "License(s): unknown\n",
            "Downloading sdss-tabular-dataset.zip to /content\n",
            "  0% 0.00/10.7M [00:00<?, ?B/s]\n",
            "100% 10.7M/10.7M [00:00<00:00, 790MB/s]\n"
          ]
        }
      ]
    },
    {
      "cell_type": "code",
      "source": [
        "!unzip sdss-tabular-dataset.zip"
      ],
      "metadata": {
        "colab": {
          "base_uri": "https://localhost:8080/"
        },
        "id": "OTlESvtg_Iy0",
        "outputId": "e4a48179-d632-4f3b-eb50-c179e4b8d621"
      },
      "execution_count": 6,
      "outputs": [
        {
          "output_type": "stream",
          "name": "stdout",
          "text": [
            "Archive:  sdss-tabular-dataset.zip\n",
            "  inflating: sdss_gz2_matched_cleaned_balanced.csv  \n"
          ]
        }
      ]
    },
    {
      "cell_type": "code",
      "source": [
        "import pandas as pd\n",
        "df = pd.read_csv(\"sdss_gz2_matched_cleaned_balanced.csv\")\n",
        "print(df.head())\n"
      ],
      "metadata": {
        "colab": {
          "base_uri": "https://localhost:8080/"
        },
        "id": "4RAl9dJF_N2C",
        "outputId": "214e2e1f-3781-46e0-8d00-477002a5defc"
      },
      "execution_count": 7,
      "outputs": [
        {
          "output_type": "stream",
          "name": "stdout",
          "text": [
            "             specobjid      dr8objid            dr7objid          ra  \\\n",
            "0   614788390251948032  1.237654e+18  587728665578700971  122.952644   \n",
            "1  2433194008562919424  1.237665e+18  587739651567845579  231.428600   \n",
            "2  2080728518915811328  1.237663e+18  587736975809773641  232.551060   \n",
            "3  1563980851195176960  1.237662e+18  587736619321917717  234.050800   \n",
            "4  3139079110530197504  1.237666e+18  587739843772940458  217.789000   \n",
            "\n",
            "         dec     rastring    decstring    sample gz2class  \\\n",
            "0  42.216805  08:11:48.63  +42:13:00.5  original    SBc?m   \n",
            "1  23.370867  15:25:42.86  +23:22:15.1  original      Ser   \n",
            "2  27.134108  15:30:12.25  +27:08:02.8  original    SBc2m   \n",
            "3  30.967339  15:36:12.19  +30:58:02.4  original    SBd2m   \n",
            "4  20.449600  14:31:09.36  +20:26:58.6  original    SBa2l   \n",
            "\n",
            "   total_classifications  ...  \\\n",
            "0                     47  ...   \n",
            "1                     40  ...   \n",
            "2                     44  ...   \n",
            "3                     55  ...   \n",
            "4                     34  ...   \n",
            "\n",
            "   t11_arms_number_a36_more_than_4_weighted_fraction  \\\n",
            "0                                                0.0   \n",
            "1                                                0.0   \n",
            "2                                                0.0   \n",
            "3                                                0.0   \n",
            "4                                                0.0   \n",
            "\n",
            "   t11_arms_number_a36_more_than_4_debiased  \\\n",
            "0                                       0.0   \n",
            "1                                       0.0   \n",
            "2                                       0.0   \n",
            "3                                       0.0   \n",
            "4                                       0.0   \n",
            "\n",
            "   t11_arms_number_a36_more_than_4_flag  t11_arms_number_a37_cant_tell_count  \\\n",
            "0                                     0                                    1   \n",
            "1                                     0                                    0   \n",
            "2                                     0                                    0   \n",
            "3                                     0                                    2   \n",
            "4                                     0                                    0   \n",
            "\n",
            "   t11_arms_number_a37_cant_tell_weight  \\\n",
            "0                                   1.0   \n",
            "1                                   0.0   \n",
            "2                                   0.0   \n",
            "3                                   2.0   \n",
            "4                                   0.0   \n",
            "\n",
            "   t11_arms_number_a37_cant_tell_fraction  \\\n",
            "0                                   1.000   \n",
            "1                                   0.000   \n",
            "2                                   0.000   \n",
            "3                                   0.062   \n",
            "4                                   0.000   \n",
            "\n",
            "   t11_arms_number_a37_cant_tell_weighted_fraction  \\\n",
            "0                                            1.000   \n",
            "1                                            0.000   \n",
            "2                                            0.000   \n",
            "3                                            0.062   \n",
            "4                                            0.000   \n",
            "\n",
            "   t11_arms_number_a37_cant_tell_debiased  t11_arms_number_a37_cant_tell_flag  \\\n",
            "0                                1.000000                                   0   \n",
            "1                                0.000000                                   0   \n",
            "2                                0.000000                                   0   \n",
            "3                                0.046002                                   0   \n",
            "4                                0.000000                                   0   \n",
            "\n",
            "     broad_class  \n",
            "0  Spiral-barred  \n",
            "1      Irregular  \n",
            "2  Spiral-barred  \n",
            "3  Spiral-barred  \n",
            "4  Spiral-barred  \n",
            "\n",
            "[5 rows x 234 columns]\n"
          ]
        }
      ]
    }
  ]
}
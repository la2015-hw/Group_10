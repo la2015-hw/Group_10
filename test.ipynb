{
  "nbformat": 4,
  "nbformat_minor": 0,
  "metadata": {
    "colab": {
      "provenance": [],
      "include_colab_link": true
    },
    "kernelspec": {
      "name": "python3",
      "display_name": "Python 3"
    },
    "language_info": {
      "name": "python"
    }
  },
  "cells": [
    {
      "cell_type": "markdown",
      "metadata": {
        "id": "view-in-github",
        "colab_type": "text"
      },
      "source": [
        "<a href=\"https://colab.research.google.com/github/Vaishnavi-chintha/Group_10/blob/main/test.ipynb\" target=\"_parent\"><img src=\"https://colab.research.google.com/assets/colab-badge.svg\" alt=\"Open In Colab\"/></a>"
      ]
    },
    {
      "cell_type": "code",
      "execution_count": null,
      "metadata": {
        "id": "rF4StZXQHpYe"
      },
      "outputs": [],
      "source": [
        "print(\"Hello World\")\n",
        "print(\"testing again\")"
      ]
    },
    {
      "cell_type": "code",
      "source": [
        "print(\"Group 10\")"
      ],
      "metadata": {
        "id": "n4zmX0nAIvb5",
        "outputId": "7d07749d-9b58-4c51-ef45-c487727c7d5f",
        "colab": {
          "base_uri": "https://localhost:8080/"
        }
      },
      "execution_count": null,
      "outputs": [
        {
          "output_type": "stream",
          "name": "stdout",
          "text": [
            "Group 10\n"
          ]
        }
      ]
    }
  ]
}
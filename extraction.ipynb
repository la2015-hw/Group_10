{
  "nbformat": 4,
  "nbformat_minor": 0,
  "metadata": {
    "colab": {
      "provenance": [],
      "include_colab_link": true
    },
    "kernelspec": {
      "name": "python3",
      "display_name": "Python 3"
    },
    "language_info": {
      "name": "python"
    }
  },
  "cells": [
    {
      "cell_type": "markdown",
      "metadata": {
        "id": "view-in-github",
        "colab_type": "text"
      },
      "source": [
        "<a href=\"https://colab.research.google.com/github/la2015-hw/Group_10/blob/main/extraction.ipynb\" target=\"_parent\"><img src=\"https://colab.research.google.com/assets/colab-badge.svg\" alt=\"Open In Colab\"/></a>"
      ]
    },
    {
      "cell_type": "markdown",
      "source": [
        "\n",
        "\n",
        "---\n",
        "\n",
        "\n",
        "**Please Read Before Running following Code Cells**\n",
        "\n",
        "\n",
        "Get Kaggle API key\n",
        "1. Navigate to Kaggle\n",
        "2. Naviagte to the Settings Page (Ensure you have a Kaggle account)\n",
        "3. Scroll to API and click \"Create New Token\"\n",
        "4. A JSON file downloads on you local machine\n",
        "\n",
        "Set Up Kaggle API\n",
        "1. Navigate to Google colab\n",
        "2. Click on files and click upload to session storage\n",
        "3. Once uploaded run the following commands in terminal\n",
        "\n",
        "```\n",
        "mkdir -p ~/.kaggle\n",
        "cp -f /content/kaggle.json ~/.kaggle/kaggle.json\n",
        "chmod 600 ~/.kaggle/kaggle.json\n",
        "```\n",
        "\n",
        "**If that does not work try this**\n",
        "\n",
        "```\n",
        "mkdir -p ~/.kaggle\n",
        "cp -f kaggle.json ~/.kaggle/kaggle.json\n",
        "chmod 600 ~/.kaggle/kaggle.json\n",
        "```\n",
        "4. API key has been set up and now you can read and write.\n",
        "\n",
        "**Reminder - Setup is necessary after each Session**\n",
        "\n",
        "\n",
        "\n",
        "---\n",
        "\n",
        "\n",
        "\n"
      ],
      "metadata": {
        "id": "A40B4-sFryui"
      }
    },
    {
      "cell_type": "code",
      "execution_count": 5,
      "metadata": {
        "id": "wggR1uw4c7S3"
      },
      "outputs": [],
      "source": [
        "!pip install kaggle --quiet"
      ]
    },
    {
      "cell_type": "code",
      "source": [
        "import kagglehub\n",
        "\n",
        "# Download latest version\n",
        "path = kagglehub.dataset_download(\"mustansireranpurwala/sdss-image-dataset\")\n",
        "\n",
        "print(\"Path to dataset files:\", path)"
      ],
      "metadata": {
        "id": "-TNC7ctG_PRV"
      },
      "execution_count": null,
      "outputs": []
    },
    {
      "cell_type": "markdown",
      "source": [
        "\n",
        "\n",
        "---\n",
        "\n",
        "\n",
        "**To push data back to kaggle**\n",
        "\n",
        "1. Run the following code to create a folder to be pushed back which contains a metadata file"
      ],
      "metadata": {
        "id": "tyTnQ75xHcIs"
      }
    },
    {
      "cell_type": "code",
      "source": [
        "import json\n",
        "import os\n",
        "\n",
        "dataset_folder = \"/content/processed_dataset\"\n",
        "\n",
        "os.makedirs(dataset_folder, exist_ok=True)\n",
        "\n",
        "metadata = {\n",
        "    \"title\": \"SDSS Image Dataset - Processed\",\n",
        "    \"id\": \"mustansireranpurwala/sdss-image-dataset\",\n",
        "    \"licenses\": [\n",
        "        {\"name\": \"CC0-1.0\"}\n",
        "    ]\n",
        "}\n",
        "\n",
        "with open(f\"{dataset_folder}/dataset-metadata.json\", \"w\") as f:\n",
        "    json.dump(metadata, f, indent=4)\n",
        "\n",
        "print(\"dataset-metadata.json created in\", dataset_folder)"
      ],
      "metadata": {
        "id": "7C0RlMV0H5yb"
      },
      "execution_count": null,
      "outputs": []
    },
    {
      "cell_type": "markdown",
      "source": [
        "2. Open Terminal and run the following commands\n",
        "\n",
        "```\n",
        "cp -r /root/.cache/kagglehub/datasets/mustansireranpurwala/sdss-image-dataset/versions/1/sdss_w_specz_valid.h5 /content/processed_dataset/\n",
        "```\n",
        "This command moves the dataset from the root to the processed_data folder\n",
        "```\n",
        "kaggle datasets version -p /content/my_dataset_to_push -m \"Test push from Colab\"\n",
        "```\n",
        "This command initiates the push to kaggle\n",
        "\n",
        "3. The processed dataset has sucessfully been pushed"
      ],
      "metadata": {
        "id": "CsETUay6IFJk"
      }
    }
  ]
}
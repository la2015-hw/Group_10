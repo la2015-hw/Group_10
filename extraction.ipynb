{
  "nbformat": 4,
  "nbformat_minor": 0,
  "metadata": {
    "colab": {
      "provenance": [],
      "include_colab_link": true
    },
    "kernelspec": {
      "name": "python3",
      "display_name": "Python 3"
    },
    "language_info": {
      "name": "python"
    }
  },
  "cells": [
    {
      "cell_type": "markdown",
      "metadata": {
        "id": "view-in-github",
        "colab_type": "text"
      },
      "source": [
        "<a href=\"https://colab.research.google.com/github/la2015-hw/Group_10/blob/main/extraction.ipynb\" target=\"_parent\"><img src=\"https://colab.research.google.com/assets/colab-badge.svg\" alt=\"Open In Colab\"/></a>"
      ]
    },
    {
      "cell_type": "markdown",
      "source": [
        "**Please Read Before Running following Code Cells**\n",
        "\n",
        "\n",
        "Get Kaggle API key\n",
        "1. Navigate to Kaggle\n",
        "2. Naviagte to the Settings Page (Ensure you have a Kaggle account)\n",
        "3. Scroll to API and click \"Create New Token\"\n",
        "4. A JSON file downloads on you local machine\n",
        "\n",
        "Set Up Kaggle API\n",
        "1. Navigate to Google colab\n",
        "2. Click on files and click upload to session storage\n",
        "3. Once uploaded run the following commands in terminal\n",
        "\n",
        "```\n",
        "mkdir -p ~/.kaggle\n",
        "cp -f /content/kaggle.json ~/.kaggle/kaggle.json\n",
        "chmod 600 ~/.kaggle/kaggle.json\n",
        "```\n",
        "\n",
        "**If that does not work try this**\n",
        "\n",
        "```\n",
        "mkdir -p ~/.kaggle\n",
        "cp -f kaggle.json ~/.kaggle/kaggle.json\n",
        "chmod 600 ~/.kaggle/kaggle.json\n",
        "```\n",
        "4. API key has been set up and now you can read and write.\n",
        "\n",
        "**Reminder - Setup is necessary after each Session**\n",
        "\n",
        "\n",
        "\n"
      ],
      "metadata": {
        "id": "A40B4-sFryui"
      }
    },
    {
      "cell_type": "code",
      "execution_count": 1,
      "metadata": {
        "id": "wggR1uw4c7S3"
      },
      "outputs": [],
      "source": [
        "!pip install kaggle --quiet"
      ]
    },
    {
      "cell_type": "code",
      "source": [
        "import kagglehub\n",
        "\n",
        "# Download latest version\n",
        "path = kagglehub.dataset_download(\"mustansireranpurwala/sdss-image-dataset\")\n",
        "\n",
        "print(\"Path to dataset files:\", path)\n"
      ],
      "metadata": {
        "id": "-TNC7ctG_PRV",
        "outputId": "366e84e2-b07c-4241-86bc-32be8f248f82",
        "colab": {
          "base_uri": "https://localhost:8080/"
        }
      },
      "execution_count": 3,
      "outputs": [
        {
          "output_type": "stream",
          "name": "stdout",
          "text": [
            "Downloading from https://www.kaggle.com/api/v1/datasets/download/mustansireranpurwala/sdss-image-dataset?dataset_version_number=1...\n"
          ]
        },
        {
          "output_type": "stream",
          "name": "stderr",
          "text": [
            "100%|██████████| 20.4G/20.4G [03:39<00:00, 99.9MB/s]"
          ]
        },
        {
          "output_type": "stream",
          "name": "stdout",
          "text": [
            "Extracting files...\n"
          ]
        },
        {
          "output_type": "stream",
          "name": "stderr",
          "text": [
            "\n"
          ]
        },
        {
          "output_type": "stream",
          "name": "stdout",
          "text": [
            "Path to dataset files: /root/.cache/kagglehub/datasets/mustansireranpurwala/sdss-image-dataset/versions/1\n"
          ]
        }
      ]
    }
  ]
}